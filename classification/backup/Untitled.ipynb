{
 "cells": [
  {
   "cell_type": "code",
   "execution_count": 3,
   "id": "4eb859b7",
   "metadata": {},
   "outputs": [],
   "source": [
    "import fontTools\n",
    "import mpl_toolkits\n",
    "import os\n",
    "import cv2\n",
    "\n",
    "import sklearn as sk\n",
    "from sklearn import datasets\n",
    "from sklearn.model_selection import train_test_split\n",
    "from sklearn.preprocessing import StandardScaler\n",
    "from sklearn.svm import LinearSVC\n",
    "from matplotlib import pyplot as plt\n",
    "from mpl_toolkits.mplot3d import Axes3D\n",
    "import numpy as np\n",
    "import pandas as pd\n",
    "from skimage.transform import resize\n",
    "from skimage.io import imread\n",
    "\n",
    "import timeit\n",
    "import time\n",
    "import datetime as dt\n",
    "from sklearn.decomposition import PCA\n",
    "from sklearn import datasets, svm, metrics\n",
    "from sklearn.datasets import fetch_openml\n",
    "from sklearn.metrics import accuracy_score\n",
    "import ssl\n",
    "\n",
    "# Helper function for plotting the fit of your SVM.\n",
    "def plot_fit(X, y, clf):\n",
    "    \"\"\"\n",
    "    X = samples\n",
    "    y = Ground truth\n",
    "    clf = trained model\n",
    "    \"\"\"\n",
    "    h = .02\n",
    "    x_min, x_max = X[:, 0].min() - 1, X[:, 0].max() + 1\n",
    "    y_min, y_max = X[:, 1].min() - 1, X[:, 1].max() + 1\n",
    "    xx, yy = np.meshgrid(np.arange(x_min, x_max, h),\n",
    "                         np.arange(y_min, y_max, h))\n",
    "    Z = clf.predict(np.c_[xx.ravel(), yy.ravel()])\n",
    "    # Put the result into a color plot\n",
    "    Z = Z.reshape(xx.shape)\n",
    "    fig = plt.figure(1, figsize=(8, 6))\n",
    "    plt.contourf(xx, yy, Z, cmap=plt.cm.coolwarm, alpha=0.8)\n",
    "    # Plot also the training points\n",
    "    plt.scatter(X[:, 0], X[:, 1], c=y, cmap=plt.cm.coolwarm, edgecolors= \"black\")\n",
    "    plt.xlabel('Sepal length')\n",
    "    plt.ylabel('Sepal width')\n",
    "    plt.xlim(xx.min(), xx.max())\n",
    "    plt.ylim(yy.min(), yy.max())\n",
    "    plt.xticks(())\n",
    "    plt.yticks(())\n"
   ]
  },
  {
   "cell_type": "code",
   "execution_count": 2,
   "id": "fd116ec8",
   "metadata": {},
   "outputs": [
    {
     "name": "stdout",
     "output_type": "stream",
     "text": [
      "loading... category : box\n",
      "loaded category:box successfully\n",
      "loading... category : cup\n",
      "loaded category:cup successfully\n",
      "loading... category : book\n",
      "loaded category:book successfully\n"
     ]
    }
   ],
   "source": [
    "\n",
    "Categories=['box','cup','book']\n",
    "flat_data_arr=[] #input array\n",
    "target_arr=[] #output array\n",
    "datadir='C:/Users/albor/OneDrive - Danmarks Tekniske Universitet/Dokumenter/PFAS/project/friendly-pancake/classification/pic/train' \n",
    "#path which contains all the categories of images\n",
    "for i in Categories:\n",
    "\n",
    "    print(f'loading... category : {i}')\n",
    "    path=os.path.join(datadir,i).replace(\"\\\\\",\"/\")\n",
    "    for img in os.listdir(path):\n",
    "        img_array=imread(os.path.join(path,img))\n",
    "        img_resized=resize(img_array,(150,150,3))\n",
    "        flat_data_arr.append(img_resized.flatten())\n",
    "        target_arr.append(Categories.index(i))\n",
    "    print(f'loaded category:{i} successfully')\n",
    "flat_data=np.array(flat_data_arr)\n",
    "targets=np.array(target_arr)\n"
   ]
  },
  {
   "cell_type": "code",
   "execution_count": 4,
   "id": "4d73a757",
   "metadata": {},
   "outputs": [
    {
     "ename": "NameError",
     "evalue": "name 'flat_data' is not defined",
     "output_type": "error",
     "traceback": [
      "\u001b[1;31m---------------------------------------------------------------------------\u001b[0m",
      "\u001b[1;31mNameError\u001b[0m                                 Traceback (most recent call last)",
      "Input \u001b[1;32mIn [4]\u001b[0m, in \u001b[0;36m<cell line: 2>\u001b[1;34m()\u001b[0m\n\u001b[0;32m      1\u001b[0m \u001b[38;5;66;03m##  Must convert to pandas for current plotting function\u001b[39;00m\n\u001b[1;32m----> 2\u001b[0m df\u001b[38;5;241m=\u001b[39mpd\u001b[38;5;241m.\u001b[39mDataFrame(\u001b[43mflat_data\u001b[49m) \u001b[38;5;66;03m#dataframe\u001b[39;00m\n\u001b[0;32m      3\u001b[0m df[\u001b[38;5;124m'\u001b[39m\u001b[38;5;124mTarget\u001b[39m\u001b[38;5;124m'\u001b[39m]\u001b[38;5;241m=\u001b[39mtargets\n\u001b[0;32m      4\u001b[0m x\u001b[38;5;241m=\u001b[39mdf\u001b[38;5;241m.\u001b[39miloc[:,:\u001b[38;5;241m-\u001b[39m\u001b[38;5;241m1\u001b[39m] \u001b[38;5;66;03m#input data \u001b[39;00m\n",
      "\u001b[1;31mNameError\u001b[0m: name 'flat_data' is not defined"
     ]
    }
   ],
   "source": [
    "##  Must convert to pandas for current plotting function\n",
    "df=pd.DataFrame(flat_data) #dataframe\n",
    "df['Target']=targets\n",
    "x=df.iloc[:,:-1] #input data \n",
    "y=df.iloc[:,-1] #output data\n",
    "print(np.shape(x))\n",
    "print(np.shape(y)) \n",
    "\n",
    "\n",
    "start = timeit.default_timer()\n",
    "\n",
    "X_scaled = StandardScaler().fit_transform(x)\n",
    "pca = PCA(n_components = 2)\n",
    "principalComponents = pca.fit_transform(X_scaled)\n",
    "print(f'Principal components:{principalComponents[0]}')\n",
    "X_train, X_test, y_train, y_test= train_test_split(principalComponents, y, test_size=0.4)\n",
    "clf = sk.svm.LinearSVC(penalty='l2', loss='squared_hinge', random_state=0, max_iter=10e4)\n",
    "clf.fit(X_train, y_train)\n",
    "clf.score(X_train, y_train)\n",
    "clf.score(X_test, y_test)\n",
    "pred = clf.predict(X_test)\n",
    "\n",
    "stop = timeit.default_timer()    \n",
    "print(f'accuracy score:{accuracy_score(y_test, pred)}') \n",
    "#Showing prediction\n",
    "print('Time: ', stop - start)\n",
    "\n",
    "plot_fit(X_train, y_train, clf)\n"
   ]
  },
  {
   "cell_type": "code",
   "execution_count": 1,
   "id": "6070ceeb",
   "metadata": {},
   "outputs": [
    {
     "ename": "NameError",
     "evalue": "name 'X_train' is not defined",
     "output_type": "error",
     "traceback": [
      "\u001b[1;31m---------------------------------------------------------------------------\u001b[0m",
      "\u001b[1;31mNameError\u001b[0m                                 Traceback (most recent call last)",
      "Input \u001b[1;32mIn [1]\u001b[0m, in \u001b[0;36m<cell line: 1>\u001b[1;34m()\u001b[0m\n\u001b[1;32m----> 1\u001b[0m \u001b[43mX_train\u001b[49m\n",
      "\u001b[1;31mNameError\u001b[0m: name 'X_train' is not defined"
     ]
    }
   ],
   "source": []
  }
 ],
 "metadata": {
  "kernelspec": {
   "display_name": "Python 3 (ipykernel)",
   "language": "python",
   "name": "python3"
  },
  "language_info": {
   "codemirror_mode": {
    "name": "ipython",
    "version": 3
   },
   "file_extension": ".py",
   "mimetype": "text/x-python",
   "name": "python",
   "nbconvert_exporter": "python",
   "pygments_lexer": "ipython3",
   "version": "3.9.10"
  }
 },
 "nbformat": 4,
 "nbformat_minor": 5
}
